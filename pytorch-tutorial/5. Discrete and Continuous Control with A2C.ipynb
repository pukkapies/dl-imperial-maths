{
 "cells": [
  {
   "cell_type": "markdown",
   "metadata": {},
   "source": [
    "# Discrete and Continuous Control with A2C"
   ]
  },
  {
   "cell_type": "markdown",
   "metadata": {},
   "source": [
    "Reinforcement learning (RL) is the study of agents taking actions in an environment in order to increase their \"reward\". This takes place in a perception-action-learning loop, whereby the agent receives a state/observation at every timestep, uses its policy to choose an action conditional on this observation, and then receives another observation and a scalar reward as the environment transitions to the next timestep. Through multiple interactions with the environment, the goal of the agent is to improve its policy so that it can maximise its expected cumulative reward.\n",
    "\n",
    "![RL Loop](https://raw.githubusercontent.com/torch/torch.github.io/master/blog/_posts/images/action-perception.png)\n",
    "\n",
    "Unlike the usual supervised or unsupervised learning settings, the agent is responsible for the data it receives, and so it is far from \"independent and identically distributed\". Furthermore, there is a particularly difficult credit assignment problem - the agent has to work out which of its actions result in rewards, where the rewards caused by specific actions may appear a long time in the future. Nevertheless, RL provides a formal framework for studying this problem.\n",
    "\n",
    "Here we'll look at the advantage actor-critic (A2C) algorithm, which combines an explicit policy (the actor) with value function estimation (the critic); the value function captures the expected cumulative reward from a given state and given a certain policy, or more informally how good a state is.\n",
    "\n",
    "We'll look at learning to solve two classic control problems - cartpole and pendulum - using A2C. In contrast to the field of optimal control, we're not assuming that we have access to a (dynamics/forward) model of the environment. RL also includes the concept of model-based methods, which attempt to learn and use such models from data, but that won't be covered here."
   ]
  },
  {
   "cell_type": "markdown",
   "metadata": {},
   "source": [
    "## Environments\n",
    "\n",
    "Firstly we'll instantiate the two environments and see how a random policy performs over several rollouts. This'll give us an idea of the problem to solve, as well as how a naive baseline would perform on it. These are both episodic environments, which means that they can terminate at some point. With cartpole, a random policy fails to keep the pole balanced and episodes terminate quickly. With pendulum, a random policy is unlikely to swing the pole up into the upright position, so episodes time out with low rewards.\n",
    "\n",
    "Just to note - we'll look at renders of the environment, but the observations for the agents will be a few symbolic inputs, such as the angle of the pole in the cartpole environment. However, the ability to learn policies \"end-to-end\", i.e., directly from pixels, is one of the major success of deep reinforcement learning."
   ]
  },
  {
   "cell_type": "code",
   "execution_count": 68,
   "metadata": {},
   "outputs": [],
   "source": [
    "import math\n",
    "import gym\n",
    "from matplotlib import pyplot as plt\n",
    "import torch\n",
    "from torch import nn, optim\n",
    "from torch.nn import functional as F\n",
    "from IPython.display import clear_output, display\n",
    "%matplotlib inline\n",
    "gym.logger.set_level(50)"
   ]
  },
  {
   "cell_type": "code",
   "execution_count": 69,
   "metadata": {},
   "outputs": [
    {
     "data": {
      "text/plain": [
       "'Average reward: 17.80'"
      ]
     },
     "metadata": {},
     "output_type": "display_data"
    },
    {
     "data": {
      "image/png": "[encoded data removed]",
      "text/plain": [
       "<Figure size 432x288 with 1 Axes>"
      ]
     },
     "metadata": {
      "needs_background": "light"
     },
     "output_type": "display_data"
    }
   ],
   "source": [
    "plt.axis('off')\n",
    "\n",
    "env = gym.make('CartPole-v0')\n",
    "env.reset()\n",
    "rollouts = 5\n",
    "total_reward = 0\n",
    "view = plt.imshow(env.render(mode='rgb_array'))\n",
    "\n",
    "for _ in range(rollouts):\n",
    "    _, done = env.reset(), False\n",
    "    while not done:\n",
    "        view.set_data(env.render(mode='rgb_array'))\n",
    "        display(plt.gcf())\n",
    "        clear_output(wait=True)\n",
    "        _, reward, done, _ = env.step(env.action_space.sample())\n",
    "        total_reward += reward\n",
    "\n",
    "env.close()\n",
    "display('Average reward: %.2f' % (total_reward / rollouts))"
   ]
  },
  {
   "cell_type": "code",
   "execution_count": 70,
   "metadata": {},
   "outputs": [
    {
     "data": {
      "text/plain": [
       "'Average reward: -1142.00'"
      ]
     },
     "metadata": {},
     "output_type": "display_data"
    },
    {
     "data": {
      "image/png": "[encoded data removed]",
      "text/plain": [
       "<Figure size 432x288 with 1 Axes>"
      ]
     },
     "metadata": {
      "needs_background": "light"
     },
     "output_type": "display_data"
    }
   ],
   "source": [
    "plt.axis('off')\n",
    "\n",
    "env = gym.make('Pendulum-v0')\n",
    "env.reset()\n",
    "total_reward = 0\n",
    "view = plt.imshow(env.render(mode='rgb_array'))\n",
    "\n",
    "for _ in range(rollouts):\n",
    "    _, done = env.reset(), False\n",
    "    while not done:\n",
    "        view.set_data(env.render(mode='rgb_array'))\n",
    "        display(plt.gcf())\n",
    "        clear_output(wait=True)\n",
    "        _, reward, done, _ = env.step(env.action_space.sample())\n",
    "        total_reward += reward\n",
    "\n",
    "env.close()\n",
    "display('Average reward: %.2f' % (total_reward / rollouts))"
   ]
  },
  {
   "cell_type": "markdown",
   "metadata": {},
   "source": [
    "## Model\n",
    "\n",
    "We'll construct a small fully-connected network with one hidden layer for both environments. For discrete control in cartpole (left or right) we'll use a categorical policy, and for continuous control in pendulum (torque) we'll use a Gaussian policy. For the latter we can actually sample using the reparameterisation trick."
   ]
  },
  {
   "cell_type": "code",
   "execution_count": 71,
   "metadata": {},
   "outputs": [],
   "source": [
    "class A2C(nn.Module):\n",
    "    def __init__(self, obs_size, env):\n",
    "        super().__init__()\n",
    "        self.env = env\n",
    "        self.fc1 = nn.Linear(obs_size, 32)\n",
    "        self.fc2 = nn.Linear(32, 1 + 2)\n",
    "\n",
    "    def forward(self, obs):\n",
    "        x = self.fc2(torch.tanh(self.fc1(obs)))\n",
    "        value, policy = x[:, 0], x[:, 1:]\n",
    "        if self.env == 'cartpole':\n",
    "            policy = F.softmax(policy, dim=1)\n",
    "            action = policy.multinomial(1).squeeze(1)\n",
    "        elif self.env == 'pendulum':\n",
    "            policy = {'mean': policy[:, 0], 'var': F.softplus(policy[:, 1])}\n",
    "            action = policy['mean'] + policy['var'].sqrt() * torch.randn_like(policy['mean'])\n",
    "        return action, policy, value"
   ]
  },
  {
   "cell_type": "markdown",
   "metadata": {},
   "source": [
    "## Training and Testing\n",
    "\n",
    "The first part of A2C training involves taking several rollouts in the environment. The environment is reset to start a new episode, and the agent takes actions sampled from its policy until the episode terminates. Meanwhile, we'll need to keep track of the policy, value estimates and rewards encountered at every timestep.\n",
    "\n",
    "Training here utilises a Monte Carlo approach to estimating the expected return (the expected sum of discounted rewards, where a discount factor in (0, 1) introduces a myopic bias that reduces variance). Forward view? The A2C algorithm actually uses n-step returns, which mixes between Monte Carlo estimates and temporal difference learning - which we'll skip over here.\n",
    "\n",
    "The value function is trained to estimate the return at each time step, and this can be treated as a regression problem in which the L2 norm between the value function estimate and the actual return is to be minimised. The residual - the difference between the return and the value function estimate - is known as the advantage, or how much better the policy did than expected.\n",
    "\n",
    "The policy is trained using the REINFORCE rule, also known as the score function estimator. Concretely, the parameters of the policy are updated to increase the log-likelihood of the taken action, weighted by the return. However, the return can have a high variance, so the advantage is utilised instead. It can be shown that using the return minus a baseline (in this case, the estimated value) can reduce the variance, and does not introduce bias if the baseline is independent of the action (in practice, there may be another sort of bias from the value function estimator being inaccurate though). Importantly, we have to use `.detach()` on the `advantage` to make sure that the parameters of the value function estimator are not influenced by the policy gradient loss. Also note that we \"subtract\" the loss, as we want to perform gradient *ascent* on this, not *descent*.\n",
    "\n",
    "A2C also uses entropy regularisation, whereby more entropic policies are promoted. This prevents the policy from collapsing into a deterministic solution too soon. Note that this isn't quite the \"maximum entropy\" principle from RL, as that also requires taking into account the entropy of the policy in future states.\n",
    "\n",
    "Finally, we'll examine the final policy learned for each environment. If it has learned well then it should be significantly better than the random policies we observed earlier."
   ]
  },
  {
   "cell_type": "code",
   "execution_count": 72,
   "metadata": {},
   "outputs": [
    {
     "data": {
      "text/plain": [
       "'Average final reward: 383.16'"
      ]
     },
     "metadata": {},
     "output_type": "display_data"
    },
    {
     "data": {
      "image/png": "[encoded data removed]",
      "text/plain": [
       "<Figure size 720x432 with 1 Axes>"
      ]
     },
     "metadata": {
      "needs_background": "light"
     },
     "output_type": "display_data"
    }
   ],
   "source": [
    "env = gym.make('CartPole-v0')\n",
    "agent = A2C(4, 'cartpole')\n",
    "optimiser = optim.RMSprop(agent.parameters(), lr=1e-3)\n",
    "value_loss_weight = 0.5\n",
    "entropy_loss_weight = 0.01\n",
    "discount = 0.99\n",
    "epochs = 20\n",
    "rollouts = 32\n",
    "total_reward, total_rewards = 0, []\n",
    "\n",
    "plt.figure(figsize=(epochs // 2, 6))\n",
    "plt.xlabel('Epochs')\n",
    "plt.ylabel('Reward')\n",
    "\n",
    "\n",
    "def obs_to_tensor(obs):\n",
    "    return torch.tensor(obs, dtype=torch.float32).unsqueeze(0)\n",
    "\n",
    "\n",
    "def plot():\n",
    "    plt.plot(range(len(total_rewards)), total_rewards, 'r-')\n",
    "    clear_output(wait=True)\n",
    "    display(plt.gcf())\n",
    "\n",
    "\n",
    "optimiser.zero_grad()\n",
    "for _ in range(epochs):\n",
    "    for _ in range(rollouts):\n",
    "        obs, done = obs_to_tensor(env.reset()), False\n",
    "        values, log_probs_action, rewards, entropies = [], [], [], []\n",
    "        while not done:\n",
    "            action, policy, value = agent(obs)\n",
    "            obs, reward, done, _ = env.step(action.item())\n",
    "            obs = obs_to_tensor(obs)\n",
    "            total_reward += reward\n",
    "\n",
    "            log_policy = policy.log()\n",
    "            log_prob_action = log_policy.gather(1, action.unsqueeze(1))\n",
    "            entropy = -(log_policy * policy).sum(1)\n",
    "            rewards.append(reward)\n",
    "            values.append(value)\n",
    "            log_probs_action.append(log_prob_action)\n",
    "            entropies.append(entropy)\n",
    "\n",
    "        ep_return = torch.zeros(1, 1)\n",
    "        trajectory_length = len(rewards)\n",
    "        loss = 0\n",
    "        for i in reversed(range(trajectory_length)):\n",
    "            ep_return = rewards[i] + discount * ep_return\n",
    "            advantage = ep_return - values[i]\n",
    "            loss += value_loss_weight * advantage ** 2\n",
    "            loss -= log_probs_action[i] * advantage.detach()\n",
    "            loss -= entropy_loss_weight * entropies[i]\n",
    "        loss.backward()\n",
    "    total_rewards.append(total_reward / rollouts)\n",
    "    plot()\n",
    "\n",
    "clear_output(wait=True)\n",
    "display('Average final reward: %.2f' % total_rewards[-1])"
   ]
  },
  {
   "cell_type": "code",
   "execution_count": 73,
   "metadata": {},
   "outputs": [
    {
     "data": {
      "image/png": "[encoded data removed]",
      "text/plain": [
       "<Figure size 432x288 with 1 Axes>"
      ]
     },
     "metadata": {
      "needs_background": "light"
     },
     "output_type": "display_data"
    }
   ],
   "source": [
    "plt.axis('off')\n",
    "\n",
    "obs, done = obs_to_tensor(env.reset()), False\n",
    "view = plt.imshow(env.render(mode='rgb_array'))\n",
    "while not done:\n",
    "    view.set_data(env.render(mode='rgb_array'))\n",
    "    display(plt.gcf())\n",
    "    clear_output(wait=True)\n",
    "    obs, _, done, _ = env.step(agent(obs)[0].item())\n",
    "    obs = obs_to_tensor(obs)\n",
    "\n",
    "env.close()"
   ]
  },
  {
   "cell_type": "code",
   "execution_count": 74,
   "metadata": {},
   "outputs": [
    {
     "data": {
      "text/plain": [
       "'Average final reward: -27495.89'"
      ]
     },
     "metadata": {},
     "output_type": "display_data"
    },
    {
     "data": {
      "image/png": "[encoded data removed]",
      "text/plain": [
       "<Figure size 720x432 with 1 Axes>"
      ]
     },
     "metadata": {
      "needs_background": "light"
     },
     "output_type": "display_data"
    }
   ],
   "source": [
    "env = gym.make('Pendulum-v0')\n",
    "agent = A2C(3, 'pendulum')\n",
    "optimiser = optim.RMSprop(agent.parameters(), lr=1e-3)\n",
    "entropy_loss_weight = 0.0001\n",
    "total_reward, total_rewards = 0, []\n",
    "\n",
    "plt.figure(figsize=(epochs // 2, 6))\n",
    "plt.xlabel('Epochs')\n",
    "plt.ylabel('Reward')\n",
    "\n",
    "\n",
    "optimiser.zero_grad()\n",
    "for _ in range(epochs):\n",
    "    for _ in range(rollouts):\n",
    "        obs, done = obs_to_tensor(env.reset()), False\n",
    "        values, log_probs_action, rewards, entropies = [], [], [], []\n",
    "        while not done:\n",
    "            action, policy, value = agent(obs)\n",
    "            obs, reward, done, _ = env.step([action.item()])\n",
    "            obs = obs_to_tensor(obs)\n",
    "            total_reward += reward\n",
    "\n",
    "            log_prob_action = -(action - policy['mean'].detach()) ** 2 / (2 * policy['var'].detach()) / \\\n",
    "                              (0.5 * torch.log(2 * math.pi * policy['var'].detach()))\n",
    "            entropy = -0.5 * (torch.log(2 * math.pi * policy['var']) + 1)\n",
    "            rewards.append(reward)\n",
    "            values.append(value)\n",
    "            log_probs_action.append(log_prob_action)\n",
    "            entropies.append(entropy)\n",
    "\n",
    "        ep_return = torch.zeros(1, 1)\n",
    "        trajectory_length = len(rewards)\n",
    "        loss = 0\n",
    "        for i in reversed(range(trajectory_length)):\n",
    "            ep_return = rewards[i] + discount * ep_return\n",
    "            advantage = ep_return - values[i]\n",
    "            loss += value_loss_weight * advantage ** 2\n",
    "            loss -= log_probs_action[i] * advantage.detach()\n",
    "            loss -= entropy_loss_weight * entropies[i]\n",
    "        loss.backward()  \n",
    "    total_rewards.append(total_reward / rollouts)\n",
    "    plot()\n",
    "\n",
    "clear_output(wait=True)\n",
    "display('Average final reward: %.2f' % total_rewards[-1])"
   ]
  },
  {
   "cell_type": "code",
   "execution_count": 75,
   "metadata": {},
   "outputs": [
    {
     "data": {
      "image/png": "[encoded data removed]",
      "text/plain": [
       "<Figure size 432x288 with 1 Axes>"
      ]
     },
     "metadata": {
      "needs_background": "light"
     },
     "output_type": "display_data"
    }
   ],
   "source": [
    "plt.axis('off')\n",
    "\n",
    "obs, done = obs_to_tensor(env.reset()), False\n",
    "view = plt.imshow(env.render(mode='rgb_array'))\n",
    "while not done:\n",
    "    view.set_data(env.render(mode='rgb_array'))\n",
    "    display(plt.gcf())\n",
    "    clear_output(wait=True)\n",
    "    obs, _, done, _ = env.step([agent(obs)[0].item()])\n",
    "    obs = obs_to_tensor(obs)\n",
    "\n",
    "env.close()"
   ]
  }
 ],
 "metadata": {
  "kernelspec": {
   "display_name": "Python 3",
   "language": "python",
   "name": "python3"
  },
  "language_info": {
   "codemirror_mode": {
    "name": "ipython",
    "version": 3
   },
   "file_extension": ".py",
   "mimetype": "text/x-python",
   "name": "python",
   "nbconvert_exporter": "python",
   "pygments_lexer": "ipython3",
   "version": "3.6.6"
  }
 },
 "nbformat": 4,
 "nbformat_minor": 2
}
