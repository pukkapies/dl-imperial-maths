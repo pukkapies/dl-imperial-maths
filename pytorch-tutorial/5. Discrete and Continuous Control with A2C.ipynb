{
 "cells": [
  {
   "cell_type": "markdown",
   "metadata": {},
   "source": [
    "# Discrete and Continuous Control with A2C"
   ]
  },
  {
   "cell_type": "markdown",
   "metadata": {},
   "source": [
    "Reinforcement learning (RL) is the study of agents taking actions in an environment in order to increase their \"reward\". This takes place in a perception-action-learning loop, whereby the agent receives a state/observation at every timestep, uses its policy to choose an action conditional on this observation, and then receives another observation and a scalar reward as the environment transitions to the next timestep. Through multiple interactions with the environment, the goal of the agent is to improve its policy so that it can maximise its expected cumulative reward.\n",
    "\n",
    "![RL Loop](https://raw.githubusercontent.com/torch/torch.github.io/master/blog/_posts/images/action-perception.png)\n",
    "\n",
    "Unlike the usual supervised or unsupervised learning settings, the agent is responsible for the data it receives, and so it is far from \"independent and identically distributed\". Furthermore, there is a particularly difficult credit assignment problem - the agent has to work out which of its actions result in rewards, where the rewards caused by specific actions may appear a long time in the future. Nevertheless, RL provides a formal framework for studying this problem.\n",
    "\n",
    "Here we'll look at the advantage actor-critic (A2C) algorithm, which combines an explicit policy (the actor) with value function estimation (the critic); the value function captures the expected cumulative reward from a given state and given a certain policy, or more informally how good a state is.\n",
    "\n",
    "We'll look at learning to solve two classic control problems - cartpole and pendulum - using A2C. In contrast to the field of optimal control, we're not assuming that we have access to a (dynamics/forward) model of the environment. RL also includes the concept of model-based methods, which attempt to learn and use such models from data, but that won't be covered here."
   ]
  },
  {
   "cell_type": "markdown",
   "metadata": {},
   "source": [
    "## Environments\n",
    "\n",
    "Firstly we'll instantiate the two environments and see how a random policy performs. This'll give us an idea of the problem to solve, as well as how a naive baseline would perform on it.\n",
    "\n",
    "Just to note - we'll look at renders of the environment, but the observations for the agents will be a few symbolic inputs, such as the angle of the pole in the cartpole environment. However, the ability to learn policies \"end-to-end\", i.e., directly from pixels, is one of the major success of deep reinforcement learning."
   ]
  },
  {
   "cell_type": "code",
   "execution_count": 1,
   "metadata": {},
   "outputs": [],
   "source": [
    "#import time\n",
    "import gym\n",
    "from matplotlib import pyplot as plt\n",
    "#import numpy as np\n",
    "import torch\n",
    "from torch import nn, optim\n",
    "from torch.nn import functional as F\n",
    "from IPython.display import clear_output, display\n",
    "%matplotlib inline"
   ]
  },
  {
   "cell_type": "code",
   "execution_count": 9,
   "metadata": {},
   "outputs": [
    {
     "data": {
      "text/plain": [
       "'Average reward: 33.00'"
      ]
     },
     "metadata": {},
     "output_type": "display_data"
    },
    {
     "data": {
      "image/png": "[encoded data removed]",
      "text/plain": [
       "<Figure size 432x288 with 1 Axes>"
      ]
     },
     "metadata": {},
     "output_type": "display_data"
    }
   ],
   "source": [
    "plt.axis('off')\n",
    "\n",
    "env = gym.make('CartPole-v0')\n",
    "obs = env.reset()\n",
    "rollouts = 3\n",
    "total_reward = 0\n",
    "view = plt.imshow(env.render(mode='rgb_array'))\n",
    "\n",
    "for _ in range(rollouts):\n",
    "    env.reset()\n",
    "    done = False\n",
    "    while not done:\n",
    "        view.set_data(env.render(mode='rgb_array'))\n",
    "        display(plt.gcf())\n",
    "        clear_output(wait=True)\n",
    "        _, reward, done, _ = env.step(env.action_space.sample())\n",
    "        total_reward += reward\n",
    "\n",
    "display('Average reward: %.2f' % (total_reward / rollouts))"
   ]
  },
  {
   "cell_type": "code",
   "execution_count": 10,
   "metadata": {},
   "outputs": [
    {
     "data": {
      "text/plain": [
       "'Average reward: -1525.91'"
      ]
     },
     "metadata": {},
     "output_type": "display_data"
    },
    {
     "data": {
      "image/png": "[encoded data removed]",
      "text/plain": [
       "<Figure size 432x288 with 1 Axes>"
      ]
     },
     "metadata": {},
     "output_type": "display_data"
    }
   ],
   "source": [
    "plt.axis('off')\n",
    "\n",
    "env = gym.make('Pendulum-v0')\n",
    "obs = env.reset()\n",
    "rollouts = 3\n",
    "total_reward = 0\n",
    "view = plt.imshow(env.render(mode='rgb_array'))\n",
    "\n",
    "for _ in range(rollouts):\n",
    "    env.reset()\n",
    "    done = False\n",
    "    while not done:\n",
    "        view.set_data(env.render(mode='rgb_array'))\n",
    "        display(plt.gcf())\n",
    "        clear_output(wait=True)\n",
    "        _, reward, done, _ = env.step(env.action_space.sample())\n",
    "        total_reward += reward\n",
    "\n",
    "display('Average reward: %.2f' % (total_reward / rollouts))"
   ]
  },
  {
   "cell_type": "markdown",
   "metadata": {},
   "source": [
    "## Model\n",
    "\n",
    "We'll construct a small fully-connected network with one hidden layer for both environments. For discrete control in cartpole (left or right) we'll use a categorical policy, and for continuous control in pendulum (torque) we'll use a Gaussian policy. For the latter we can actually sample using the reparameterisation trick."
   ]
  },
  {
   "cell_type": "code",
   "execution_count": 13,
   "metadata": {},
   "outputs": [],
   "source": [
    "class A2C(nn.Module):\n",
    "    def __init__(self, obs_size, env):\n",
    "        super().__init__()\n",
    "        self.env = env\n",
    "        self.fc1 = nn.Linear(obs_size, 32)\n",
    "        if env == 'cartpole':\n",
    "            self.fc2 = nn.Linear(32, 1 + 2)\n",
    "        elif env == 'pendulum':\n",
    "            self.fc2 = nn.Linear(32, 1 + 1)\n",
    "            self.pi_std_dev = nn.Parameter(torch.zeros(1, 1))\n",
    "\n",
    "    def forward(self, obs):\n",
    "        x = self.fc2(torch.tanh(self.fc1(obs)))\n",
    "        V, pi = x[:, 0], x[:, 1:]\n",
    "        if self.env == 'cartpole':\n",
    "            pi = F.softmax(pi, dim=1)\n",
    "            action = pi.multinomial(1).squeeze(1)\n",
    "        elif self.env == 'pendulum':\n",
    "            pi = (pi, F.softplus(self.pi_std_dev))\n",
    "            action = pi[0] + pi[1] * torch.randn_like(pi[0])\n",
    "        return action, pi, V"
   ]
  },
  {
   "cell_type": "markdown",
   "metadata": {},
   "source": [
    "## Training\n",
    "\n",
    "A2C"
   ]
  },
  {
   "cell_type": "code",
   "execution_count": 19,
   "metadata": {},
   "outputs": [
    {
     "name": "stdout",
     "output_type": "stream",
     "text": [
      "\u001b[33mWARN: gym.spaces.Box autodetected dtype as <class 'numpy.float32'>. Please provide explicit dtype.\u001b[0m\n"
     ]
    },
    {
     "data": {
      "text/plain": [
       "'Average reward: 28.94'"
      ]
     },
     "metadata": {},
     "output_type": "display_data"
    }
   ],
   "source": [
    "env = gym.make('CartPole-v0')\n",
    "agent = A2C(4, 'cartpole')\n",
    "optimiser = optim.RMSprop(agent.parameters(), lr=1e-3)\n",
    "rollouts = 32\n",
    "total_reward = 0\n",
    "\n",
    "\n",
    "def obs_to_tensor(obs):\n",
    "    return torch.tensor(obs, dtype=torch.float32).unsqueeze(0)\n",
    "\n",
    "\n",
    "for _ in range(rollouts):\n",
    "    obs, done = obs_to_tensor(env.reset()), False\n",
    "    while not done:\n",
    "        action, pi, V = agent(obs)\n",
    "        obs, reward, done, _ = env.step(action.item())\n",
    "        obs = obs_to_tensor(obs)\n",
    "        total_reward += reward\n",
    "\n",
    "display('Average reward: %.2f' % (total_reward / rollouts))"
   ]
  },
  {
   "cell_type": "code",
   "execution_count": 26,
   "metadata": {},
   "outputs": [
    {
     "name": "stdout",
     "output_type": "stream",
     "text": [
      "\u001b[33mWARN: gym.spaces.Box autodetected dtype as <class 'numpy.float32'>. Please provide explicit dtype.\u001b[0m\n",
      "\u001b[33mWARN: gym.spaces.Box autodetected dtype as <class 'numpy.float32'>. Please provide explicit dtype.\u001b[0m\n"
     ]
    },
    {
     "data": {
      "text/plain": [
       "'Average reward: -1480.49'"
      ]
     },
     "metadata": {},
     "output_type": "display_data"
    }
   ],
   "source": [
    "env = gym.make('Pendulum-v0')\n",
    "agent = A2C(3, 'pendulum')\n",
    "optimiser = optim.RMSprop(agent.parameters(), lr=1e-3)\n",
    "rollouts = 32\n",
    "total_reward = 0\n",
    "\n",
    "\n",
    "def obs_to_tensor(obs):\n",
    "    return torch.tensor(obs, dtype=torch.float32).unsqueeze(0)\n",
    "\n",
    "\n",
    "for _ in range(rollouts):\n",
    "    obs, done = obs_to_tensor(env.reset()), False\n",
    "    while not done:\n",
    "        action, pi, V = agent(obs)\n",
    "        obs, reward, done, _ = env.step([action.item()])\n",
    "        obs = obs_to_tensor(obs)\n",
    "        total_reward += reward\n",
    "\n",
    "display('Average reward: %.2f' % (total_reward / rollouts))"
   ]
  },
  {
   "cell_type": "code",
   "execution_count": null,
   "metadata": {},
   "outputs": [],
   "source": []
  }
 ],
 "metadata": {
  "kernelspec": {
   "display_name": "Python 3",
   "language": "python",
   "name": "python3"
  },
  "language_info": {
   "codemirror_mode": {
    "name": "ipython",
    "version": 3
   },
   "file_extension": ".py",
   "mimetype": "text/x-python",
   "name": "python",
   "nbconvert_exporter": "python",
   "pygments_lexer": "ipython3",
   "version": "3.6.6"
  }
 },
 "nbformat": 4,
 "nbformat_minor": 2
}
