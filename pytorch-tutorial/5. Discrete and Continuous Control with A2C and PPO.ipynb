{
 "cells": [
  {
   "cell_type": "markdown",
   "metadata": {},
   "source": [
    "# Discrete and Continuous Control with A2C and PPO\n",
    "\n",
    "Reinforcement learning (RL) is the study of agents taking actions in an environment in order to increase their \"reward\". This takes place in a perception-action-learning loop, whereby the agent receives a state/observation at every timestep, uses its policy to choose an action conditional on this observation, and then receives another observation and a scalar reward as the environment transitions to the next timestep. Through multiple interactions with the environment, the goal of the agent is to improve its policy so that it can maximise its expected cumulative reward.\n",
    "\n",
    "![RL Loop](https://raw.githubusercontent.com/torch/torch.github.io/master/blog/_posts/images/action-perception.png)\n",
    "\n",
    "Unlike the usual supervised or unsupervised learning settings, the agent is responsible for the data it receives, and so it is far from \"independent and identically distributed\". Furthermore, there is a particularly difficult credit assignment problem - the agent has to work out which of its actions result in rewards, where the rewards caused by specific actions may appear a long time in the future. Nevertheless, RL provides a formal framework for studying this problem. In contrast to the field of optimal control, we're not assuming that we have access to a (dynamics/forward) model of the environment. RL also includes the concept of model-based methods, which attempt to learn and use such models from data, but that won't be covered here.\n",
    "\n",
    "Here we'll look at the advantage actor-critic (A2C) algorithm, which combines an explicit policy (the actor) with value function estimation (the critic); the value function captures the expected cumulative reward from a given state and given a certain policy, or more informally how good a state is. We'll also look at a more sophisticated algorithm - proximal policy optimisation (PPO) - that aims to prevent disastrously large updates to the policy.\n",
    "\n",
    "We'll look at learning to solve two classic control problems - cartpole and pendulum - using A2C. A2C has difficulty in learning to control the pendulum, so we'll show how PPO's more conservative updates actually help solve this."
   ]
  },
  {
   "cell_type": "markdown",
   "metadata": {},
   "source": [
    "## Environments\n",
    "\n",
    "Firstly we'll instantiate the two environments and see how a random policy performs over several rollouts. This'll give us an idea of the problem to solve, as well as how a naive baseline would perform on it. These are both episodic environments, which means that they can terminate at some point. With cartpole, a random policy fails to keep the pole balanced and episodes terminate quickly. With pendulum, a random policy is unlikely to swing the pole up into the upright position, so episodes time out with low rewards.\n",
    "\n",
    "Just to note - we'll look at renders of the environment, but the observations for the agents will be a few symbolic inputs, such as the angle of the pole in the cartpole environment. However, the ability to learn policies \"end-to-end\", i.e., directly from pixels, is one of the major success of deep reinforcement learning."
   ]
  },
  {
   "cell_type": "code",
   "execution_count": 8,
   "metadata": {},
   "outputs": [],
   "source": [
    "import math\n",
    "import gym\n",
    "from matplotlib import pyplot as plt\n",
    "import torch\n",
    "from torch import nn, optim\n",
    "from torch.distributions import Categorical, Normal\n",
    "from torch.nn import functional as F\n",
    "from IPython.display import clear_output, display\n",
    "%matplotlib inline\n",
    "gym.logger.set_level(50)"
   ]
  },
  {
   "cell_type": "code",
   "execution_count": 69,
   "metadata": {},
   "outputs": [
    {
     "data": {
      "text/plain": [
       "'Average reward: 17.80'"
      ]
     },
     "metadata": {},
     "output_type": "display_data"
    },
    {
     "data": {
      "image/png": "[encoded data removed]",
      "text/plain": [
       "<Figure size 432x288 with 1 Axes>"
      ]
     },
     "metadata": {
      "needs_background": "light"
     },
     "output_type": "display_data"
    }
   ],
   "source": [
    "plt.axis('off')\n",
    "\n",
    "env = gym.make('CartPole-v0')\n",
    "env.reset()\n",
    "rollouts = 5\n",
    "total_reward = 0\n",
    "view = plt.imshow(env.render(mode='rgb_array'))\n",
    "\n",
    "for _ in range(rollouts):\n",
    "    _, done = env.reset(), False\n",
    "    while not done:\n",
    "        view.set_data(env.render(mode='rgb_array'))\n",
    "        display(plt.gcf())\n",
    "        clear_output(wait=True)\n",
    "        _, reward, done, _ = env.step(env.action_space.sample())\n",
    "        total_reward += reward\n",
    "\n",
    "env.close()\n",
    "display('Average reward: %.2f' % (total_reward / rollouts))"
   ]
  },
  {
   "cell_type": "code",
   "execution_count": 70,
   "metadata": {},
   "outputs": [
    {
     "data": {
      "text/plain": [
       "'Average reward: -1142.00'"
      ]
     },
     "metadata": {},
     "output_type": "display_data"
    },
    {
     "data": {
      "image/png": "[encoded data removed]",
      "text/plain": [
       "<Figure size 432x288 with 1 Axes>"
      ]
     },
     "metadata": {
      "needs_background": "light"
     },
     "output_type": "display_data"
    }
   ],
   "source": [
    "plt.axis('off')\n",
    "\n",
    "env = gym.make('Pendulum-v0')\n",
    "env.reset()\n",
    "total_reward = 0\n",
    "view = plt.imshow(env.render(mode='rgb_array'))\n",
    "\n",
    "for _ in range(rollouts):\n",
    "    _, done = env.reset(), False\n",
    "    while not done:\n",
    "        view.set_data(env.render(mode='rgb_array'))\n",
    "        display(plt.gcf())\n",
    "        clear_output(wait=True)\n",
    "        _, reward, done, _ = env.step(env.action_space.sample())\n",
    "        total_reward += reward\n",
    "\n",
    "env.close()\n",
    "display('Average reward: %.2f' % (total_reward / rollouts))"
   ]
  },
  {
   "cell_type": "markdown",
   "metadata": {},
   "source": [
    "## Model\n",
    "\n",
    "We'll construct two small fully-connected networks (an actor network and critic network) with one hidden layer each for both environments. For discrete control in cartpole (left or right) we'll use a categorical policy, and for continuous control in pendulum (torque) we'll use a Gaussian policy. We'll make the standard deviation of the Gaussian policy independent of the input, which will keep it more stable."
   ]
  },
  {
   "cell_type": "code",
   "execution_count": null,
   "metadata": {},
   "outputs": [],
   "source": [
    "class Agent(nn.Module):\n",
    "    def __init__(self, obs_size, env):\n",
    "        super().__init__()\n",
    "        self.env = env\n",
    "        self.value_fc1 = nn.Linear(obs_size, 256)\n",
    "        self.value_fc2 = nn.Linear(256, 1)\n",
    "        self.policy_fc1 = nn.Linear(obs_size, 256)\n",
    "        self.policy_fc2 = nn.Linear(256, 1 if env == 'pendulum' else 2)\n",
    "        if env == 'pendulum':\n",
    "            self.std_dev = nn.Parameter(torch.zeros(1))\n",
    "\n",
    "    def forward(self, obs):\n",
    "        value = self.value_fc2(torch.tanh(self.value_fc1(obs)))[:, 0]\n",
    "        policy = self.policy_fc2(torch.tanh(self.policy_fc1(obs)))\n",
    "        if self.env == 'cartpole':\n",
    "            policy = Categorical(logits=policy)\n",
    "        elif self.env == 'pendulum':\n",
    "            policy = Normal(policy[:, 0], F.softplus(self.std_dev))\n",
    "        return policy, value"
   ]
  },
  {
   "cell_type": "markdown",
   "metadata": {},
   "source": [
    "## A2C\n",
    "\n",
    "### Training and Testing\n",
    "\n",
    "The first part of A2C training involves taking several rollouts in the environment. The environment is reset to start a new episode, and the agent takes actions sampled from its policy until the episode terminates. Meanwhile, we'll need to keep track of the policy, value estimates and rewards encountered at every timestep.\n",
    "\n",
    "Training here utilises a Monte Carlo approach to estimating the expected return (the expected sum of discounted rewards, where a discount factor in (0, 1) introduces a myopic bias that reduces variance). The value function is trained to estimate the return at each time step, and this can be treated as a regression problem in which the L2 norm between the value function estimate and the actual return is to be minimised. The residual - the difference between the return and the value function estimate - is known as the advantage, or how much better the policy did than expected. Technically the original A2C algorithm uses n-step returns, but we'll instead use a lower variance estimation of the advantage, known as generalised advantage estimation (GAE), to train the policy. GAE utilises temporal difference (TD) errors and eligibility traces in order to average between different n-step returns at once.\n",
    "\n",
    "The policy is trained using the REINFORCE rule, also known as the score function estimator. Concretely, the parameters of the policy are updated to increase the log-likelihood of the taken action, weighted by the return. However, the return can have a high variance, so the advantage is utilised instead. It can be shown that using the return minus a baseline (in this case, the estimated value) can reduce the variance, and does not introduce bias if the baseline is independent of the action (in practice, there may be another sort of bias from the value function estimator being inaccurate though). Importantly, we have to use `.detach()` on the `advantage` to make sure that the parameters of the value function estimator are not influenced by the policy gradient loss. Also note that we \"subtract\" the loss, as we want to perform gradient *ascent* on this, not *descent*.\n",
    "\n",
    "A2C also uses entropy regularisation, whereby more entropic policies are promoted. This prevents the policy from collapsing into a deterministic solution too soon. Note that this isn't quite the \"maximum entropy\" principle from RL, as that also requires taking into account the entropy of the policy in future states.\n",
    "\n",
    "Finally, we'll examine the final policy learned for each environment. If it has learned well then it should be significantly better than the random policies we observed earlier."
   ]
  },
  {
   "cell_type": "code",
   "execution_count": 37,
   "metadata": {},
   "outputs": [
    {
     "data": {
      "text/plain": [
       "'Average final reward: 173.25'"
      ]
     },
     "metadata": {},
     "output_type": "display_data"
    },
    {
     "data": {
      "image/png": "[encoded data removed]",
      "text/plain": [
       "<Figure size 1008x432 with 1 Axes>"
      ]
     },
     "metadata": {
      "needs_background": "light"
     },
     "output_type": "display_data"
    }
   ],
   "source": [
    "env = gym.make('CartPole-v0')\n",
    "agent = Agent(4, 'cartpole')\n",
    "agent.train()\n",
    "optimiser = optim.Adam(agent.parameters(), lr=1e-3)\n",
    "discount = 0.99\n",
    "trace_decay = 0.95\n",
    "value_loss_weight = 0.5\n",
    "entropy_loss_weight = 0.01\n",
    "epochs = 200\n",
    "rollouts = 32\n",
    "total_rewards = []\n",
    "\n",
    "plt.figure(figsize=(14, 6))\n",
    "plt.xlabel('Epochs')\n",
    "plt.ylabel('Reward')\n",
    "\n",
    "def obs_to_tensor(obs):\n",
    "    return torch.tensor(obs, dtype=torch.float32).unsqueeze(0)\n",
    "\n",
    "def plot():\n",
    "    plt.plot(range(len(total_rewards)), total_rewards, 'r-')\n",
    "    clear_output(wait=True)\n",
    "    display(plt.gcf())\n",
    "\n",
    "for _ in range(epochs):\n",
    "    optimiser.zero_grad()    \n",
    "    total_reward = 0\n",
    "    for _ in range(rollouts):\n",
    "        obs, done = obs_to_tensor(env.reset()), False\n",
    "        values, log_probs_action, rewards, entropies = [], [], [], []\n",
    "        while not done:\n",
    "            policy, value = agent(obs)\n",
    "            action = policy.sample()\n",
    "            obs, reward, done, _ = env.step(action.item())\n",
    "            obs = obs_to_tensor(obs)\n",
    "            total_reward += reward\n",
    "\n",
    "            rewards.append(reward)\n",
    "            values.append(value)\n",
    "            log_probs_action.append(policy.log_prob(action))\n",
    "            entropies.append(policy.entropy())\n",
    "\n",
    "        ep_return, gae = torch.zeros(1), torch.zeros(1)\n",
    "        values.append(ep_return)\n",
    "        trajectory_length = len(rewards)\n",
    "        loss = 0\n",
    "        for i in reversed(range(trajectory_length)):\n",
    "            ep_return = rewards[i] + discount * ep_return\n",
    "            advantage = ep_return - values[i]\n",
    "            loss += value_loss_weight * advantage ** 2\n",
    "            td_error = rewards[i] + discount * values[i + 1].item() - values[i].item()\n",
    "            gae = gae * discount * trace_decay + td_error\n",
    "            loss -= log_probs_action[i] * gae\n",
    "            loss -= entropy_loss_weight * entropies[i]\n",
    "        loss.backward()\n",
    "    optimiser.step()\n",
    "\n",
    "    total_rewards.append(total_reward / rollouts)\n",
    "    plot()\n",
    "\n",
    "clear_output(wait=True)\n",
    "display('Average final reward: %.2f' % total_rewards[-1])"
   ]
  },
  {
   "cell_type": "code",
   "execution_count": 38,
   "metadata": {},
   "outputs": [
    {
     "data": {
      "image/png": "[encoded data removed]",
      "text/plain": [
       "<Figure size 432x288 with 1 Axes>"
      ]
     },
     "metadata": {
      "needs_background": "light"
     },
     "output_type": "display_data"
    }
   ],
   "source": [
    "plt.axis('off')\n",
    "\n",
    "agent.eval()\n",
    "obs, done = obs_to_tensor(env.reset()), False\n",
    "view = plt.imshow(env.render(mode='rgb_array'))\n",
    "while not done:\n",
    "    view.set_data(env.render(mode='rgb_array'))\n",
    "    display(plt.gcf())\n",
    "    clear_output(wait=True)\n",
    "    with torch.no_grad():\n",
    "        obs, _, done, _ = env.step(agent(obs)[0].sample().item())\n",
    "    obs = obs_to_tensor(obs)\n",
    "\n",
    "env.close()"
   ]
  },
  {
   "cell_type": "code",
   "execution_count": 39,
   "metadata": {},
   "outputs": [
    {
     "data": {
      "text/plain": [
       "'Average final reward: -1072.12'"
      ]
     },
     "metadata": {},
     "output_type": "display_data"
    },
    {
     "data": {
      "image/png": "[encoded data removed]",
      "text/plain": [
       "<Figure size 1008x432 with 1 Axes>"
      ]
     },
     "metadata": {
      "needs_background": "light"
     },
     "output_type": "display_data"
    }
   ],
   "source": [
    "env = gym.make('Pendulum-v0')\n",
    "agent = Agent(3, 'pendulum')\n",
    "agent.train()\n",
    "optimiser = optim.Adam(agent.parameters(), lr=1e-3)\n",
    "entropy_loss_weight = 0.0001\n",
    "total_rewards = []\n",
    "\n",
    "plt.figure(figsize=(14, 6))\n",
    "plt.xlabel('Epochs')\n",
    "plt.ylabel('Reward')\n",
    "\n",
    "for _ in range(epochs):\n",
    "    optimiser.zero_grad()\n",
    "    total_reward = 0\n",
    "    for _ in range(rollouts):\n",
    "        obs, done = obs_to_tensor(env.reset()), False\n",
    "        values, log_probs_action, rewards, entropies = [], [], [], []\n",
    "        while not done:\n",
    "            policy, value = agent(obs)\n",
    "            action = policy.sample()\n",
    "            obs, reward, done, _ = env.step([action.item()])\n",
    "            obs = obs_to_tensor(obs)\n",
    "            total_reward += reward\n",
    "\n",
    "            rewards.append(reward)\n",
    "            values.append(value)\n",
    "            log_probs_action.append(policy.log_prob(action))\n",
    "            entropies.append(policy.entropy())\n",
    "\n",
    "        ep_return, gae = torch.zeros(1), torch.zeros(1)\n",
    "        values.append(ep_return)\n",
    "        trajectory_length = len(rewards)\n",
    "        loss = 0\n",
    "        for i in reversed(range(trajectory_length)):\n",
    "            ep_return = rewards[i] + discount * ep_return\n",
    "            advantage = ep_return - values[i]\n",
    "            loss += value_loss_weight * advantage ** 2\n",
    "            td_error = rewards[i] + discount * values[i + 1].item() - values[i].item()\n",
    "            gae = gae * discount * trace_decay + td_error\n",
    "            loss -= log_probs_action[i] * gae\n",
    "            loss -= entropy_loss_weight * entropies[i]\n",
    "        loss.backward()\n",
    "    optimiser.step()\n",
    "\n",
    "    total_rewards.append(total_reward / rollouts)\n",
    "    plot()\n",
    "\n",
    "clear_output(wait=True)\n",
    "display('Average final reward: %.2f' % total_rewards[-1])"
   ]
  },
  {
   "cell_type": "code",
   "execution_count": 40,
   "metadata": {},
   "outputs": [
    {
     "data": {
      "image/png": "[encoded data removed]",
      "text/plain": [
       "<Figure size 432x288 with 1 Axes>"
      ]
     },
     "metadata": {
      "needs_background": "light"
     },
     "output_type": "display_data"
    }
   ],
   "source": [
    "plt.axis('off')\n",
    "\n",
    "agent.eval()\n",
    "obs, done = obs_to_tensor(env.reset()), False\n",
    "view = plt.imshow(env.render(mode='rgb_array'))\n",
    "while not done:\n",
    "    view.set_data(env.render(mode='rgb_array'))\n",
    "    display(plt.gcf())\n",
    "    clear_output(wait=True)\n",
    "    with torch.no_grad():\n",
    "        obs, _, done, _ = env.step([agent(obs)[0].sample().item()])\n",
    "    obs = obs_to_tensor(obs)\n",
    "\n",
    "env.close()"
   ]
  },
  {
   "cell_type": "markdown",
   "metadata": {},
   "source": [
    "## PPO\n",
    "\n",
    "### Training and Testing\n",
    "\n",
    "First-order gradients point in the direction of steepest ascent/descent, but the accuracy of this decreases further away from the point of evaluation. A related problem is that a large step size can cause the policy to hop around the optimisation landscape or even get worse. To prevent this, we can restrict how much the policy can change within an update. Trust region policy optimisation (TRPO) defines a hard constraint on this change (the trust region), and uses an approximate second-order method with line search to make sure the policy update never outsteps the trust region. However, this is very expensive, so PPO utilises a first-order method with a soft constraint on the change in the policy.\n",
    "\n",
    "Both TRPO and PPO perform multiple updates using data collected from rollouts, so use importance sampling to correct for the mismatch as the current policy deviates from the original policy used to collect the data (initially the probability ratio will be 1). However, as the probability ratios increase or diverge within the inner optimisation steps, the objective function becomes more innacurate. Therefore, PPO implements a clipped objective function, which makes the updates conservative and - ideally - more stable."
   ]
  },
  {
   "cell_type": "code",
   "execution_count": 41,
   "metadata": {},
   "outputs": [
    {
     "data": {
      "text/plain": [
       "'Average final reward: -312.00'"
      ]
     },
     "metadata": {},
     "output_type": "display_data"
    },
    {
     "data": {
      "image/png": "[encoded data removed]",
      "text/plain": [
       "<Figure size 1008x432 with 1 Axes>"
      ]
     },
     "metadata": {
      "needs_background": "light"
     },
     "output_type": "display_data"
    }
   ],
   "source": [
    "env = gym.make('Pendulum-v0')\n",
    "agent = Agent(3, 'pendulum')\n",
    "agent.train()\n",
    "optimiser = optim.Adam(agent.parameters(), lr=1e-3)\n",
    "clip = 0.2\n",
    "total_rewards = []\n",
    "\n",
    "plt.figure(figsize=(14, 6))\n",
    "plt.xlabel('Epochs')\n",
    "plt.ylabel('Reward')\n",
    "\n",
    "for _ in range(epochs):\n",
    "    total_reward = 0\n",
    "\n",
    "    b_states, b_actions, b_old_log_probs_action, b_returns, b_gaes = [], [], [], [] ,[]\n",
    "    for _ in range(rollouts):\n",
    "        obs, done = obs_to_tensor(env.reset()), False\n",
    "        states, actions, rewards, returns, old_log_probs_action, values, gaes = [], [], [], [], [], [], []\n",
    "        with torch.no_grad():\n",
    "            while not done:\n",
    "                states.append(obs)\n",
    "\n",
    "                policy, value = agent(obs)\n",
    "                action = policy.sample()\n",
    "                obs, reward, done, _ = env.step([action.item()])\n",
    "                obs = obs_to_tensor(obs)\n",
    "                total_reward += reward\n",
    "\n",
    "                actions.append(action)\n",
    "                rewards.append(reward)\n",
    "                old_log_probs_action.append(policy.log_prob(action))\n",
    "                values.append(value)\n",
    "\n",
    "            ep_return, gae = 0, 0\n",
    "            values.append(torch.zeros(1))\n",
    "            trajectory_length = len(rewards)\n",
    "            for i in reversed(range(trajectory_length)):\n",
    "                ep_return = rewards[i] + discount * ep_return\n",
    "                td_error = rewards[i] + discount * values[i + 1].item() - values[i].item()\n",
    "                gae = gae * discount * trace_decay + td_error\n",
    "                returns.insert(0, ep_return)\n",
    "                gaes.insert(0, gae)\n",
    "\n",
    "        b_states.append(torch.cat(states))\n",
    "        b_actions.append(torch.cat(actions))\n",
    "        b_old_log_probs_action.append(torch.cat(old_log_probs_action))\n",
    "        b_returns.append(torch.tensor(returns))\n",
    "        b_gaes.append(torch.tensor(gaes))\n",
    "\n",
    "    b_states = torch.cat(b_states)\n",
    "    b_actions = torch.cat(b_actions)\n",
    "    b_old_log_probs_action = torch.cat(b_old_log_probs_action)\n",
    "    b_returns = torch.cat(b_returns)\n",
    "    b_gaes = torch.cat(b_gaes)\n",
    "    \n",
    "    for _ in range(10):\n",
    "        optimiser.zero_grad()\n",
    "        policies, values = agent(b_states)\n",
    "        ratios = (policies.log_prob(b_actions) - b_old_log_probs_action).exp()\n",
    "        loss = -torch.min(ratios * b_gaes, torch.clamp(ratios, min=1 - clip, max=1 + clip) * b_gaes).mean()\n",
    "        loss += value_loss_weight * (b_returns - values).pow(2).mean()\n",
    "        loss += entropy_loss_weight * policies.entropy().mean()\n",
    "        loss.backward()\n",
    "        optimiser.step()\n",
    "\n",
    "    total_rewards.append(total_reward / rollouts)\n",
    "    plot()\n",
    "\n",
    "clear_output(wait=True)\n",
    "display('Average final reward: %.2f' % total_rewards[-1])"
   ]
  },
  {
   "cell_type": "code",
   "execution_count": 42,
   "metadata": {},
   "outputs": [
    {
     "data": {
      "image/png": "[encoded data removed]",
      "text/plain": [
       "<Figure size 432x288 with 1 Axes>"
      ]
     },
     "metadata": {
      "needs_background": "light"
     },
     "output_type": "display_data"
    }
   ],
   "source": [
    "plt.axis('off')\n",
    "\n",
    "agent.eval()\n",
    "obs, done = obs_to_tensor(env.reset()), False\n",
    "view = plt.imshow(env.render(mode='rgb_array'))\n",
    "while not done:\n",
    "    view.set_data(env.render(mode='rgb_array'))\n",
    "    display(plt.gcf())\n",
    "    clear_output(wait=True)\n",
    "    with torch.no_grad():\n",
    "        obs, _, done, _ = env.step([agent(obs)[0].sample().item()])\n",
    "    obs = obs_to_tensor(obs)\n",
    "\n",
    "env.close()"
   ]
  }
 ],
 "metadata": {
  "kernelspec": {
   "display_name": "Python 3",
   "language": "python",
   "name": "python3"
  },
  "language_info": {
   "codemirror_mode": {
    "name": "ipython",
    "version": 3
   },
   "file_extension": ".py",
   "mimetype": "text/x-python",
   "name": "python",
   "nbconvert_exporter": "python",
   "pygments_lexer": "ipython3",
   "version": "3.6.6"
  }
 },
 "nbformat": 4,
 "nbformat_minor": 2
}
